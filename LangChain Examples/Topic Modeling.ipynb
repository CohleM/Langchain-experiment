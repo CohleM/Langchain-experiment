{
 "cells": [
  {
   "cell_type": "code",
   "execution_count": 1,
   "id": "e047322e",
   "metadata": {},
   "outputs": [
    {
     "name": "stderr",
     "output_type": "stream",
     "text": [
      "/Users/cohlem/anaconda3/envs/learnings/lib/python3.11/site-packages/pinecone/index.py:4: TqdmWarning: IProgress not found. Please update jupyter and ipywidgets. See https://ipywidgets.readthedocs.io/en/stable/user_install.html\n",
      "  from tqdm.autonotebook import tqdm\n"
     ]
    },
    {
     "data": {
      "text/plain": [
       "False"
      ]
     },
     "execution_count": 1,
     "metadata": {},
     "output_type": "execute_result"
    }
   ],
   "source": [
    "from langchain.chat_models import ChatOpenAI\n",
    "from langchain.text_splitter import RecursiveCharacterTextSplitter\n",
    "from langchain.chains.summarize import load_summarize_chain\n",
    "from langchain.chains import create_extraction_chain\n",
    "\n",
    "# Vector Store and retrievals\n",
    "from langchain.embeddings.openai import OpenAIEmbeddings\n",
    "from langchain.chains import RetrievalQA\n",
    "from langchain.vectorstores import Pinecone\n",
    "import pinecone\n",
    "\n",
    "# Chat Prompt templates for dynamic values\n",
    "from langchain.prompts.chat import (\n",
    "    ChatPromptTemplate,\n",
    "    SystemMessagePromptTemplate,\n",
    "    HumanMessagePromptTemplate\n",
    ")\n",
    "\n",
    "# Supporting libraries\n",
    "import os\n",
    "from dotenv import load_dotenv\n",
    "\n",
    "load_dotenv()\n"
   ]
  },
  {
   "cell_type": "code",
   "execution_count": 4,
   "id": "209065b5",
   "metadata": {},
   "outputs": [
    {
     "name": "stdout",
     "output_type": "stream",
     "text": [
      "enter key········\n"
     ]
    }
   ],
   "source": [
    "from getpass import getpass\n",
    "\n",
    "key = getpass('enter key')"
   ]
  },
  {
   "cell_type": "code",
   "execution_count": 5,
   "id": "964f79bc",
   "metadata": {},
   "outputs": [],
   "source": [
    "# Creating two versions of the model so I can swap between gpt3.5 and gpt4\n",
    "llm3 = ChatOpenAI(temperature=0,\n",
    "                  openai_api_key=key,\n",
    "                  request_timeout = 180\n",
    "                )\n"
   ]
  },
  {
   "cell_type": "code",
   "execution_count": 17,
   "id": "44a99384",
   "metadata": {},
   "outputs": [],
   "source": [
    "transcript_paths = [\n",
    "    './data/mfm_pod_steph.txt',\n",
    "    './data/mfm_pod_alex.txt',\n",
    "    './data/mfm_pod_rob.txt'\n",
    "]\n"
   ]
  },
  {
   "cell_type": "code",
   "execution_count": 14,
   "id": "506a665f",
   "metadata": {},
   "outputs": [],
   "source": [
    "with open('./data/mfm_pod_steph.txt') as file:\n",
    "    transcript = file.read()"
   ]
  },
  {
   "cell_type": "code",
   "execution_count": 16,
   "id": "35801b61",
   "metadata": {},
   "outputs": [
    {
     "data": {
      "text/plain": [
       "\"Shaan Puri (0:00:00-0:00:03): D to see hearing AIDS. I think that's actually going to be a big deal. \\n\\nSam Parr (0:00:03-0:00:05): And they're profitable. \\n\\nShaan Puri (0:00:05-0:00:08): I mean, I'm j\""
      ]
     },
     "execution_count": 16,
     "metadata": {},
     "output_type": "execute_result"
    }
   ],
   "source": [
    "transcript[:200]"
   ]
  },
  {
   "cell_type": "code",
   "execution_count": 21,
   "id": "df535545",
   "metadata": {},
   "outputs": [],
   "source": [
    "text_splitter = RecursiveCharacterTextSplitter(separators=[\"\\n\\n\", \"\\n\", \" \"], chunk_size=10000, chunk_overlap=2200)\n"
   ]
  },
  {
   "cell_type": "code",
   "execution_count": 26,
   "id": "4468f1cd",
   "metadata": {},
   "outputs": [],
   "source": [
    "docs = text_splitter.create_documents([transcript[:23250]])"
   ]
  },
  {
   "cell_type": "code",
   "execution_count": 27,
   "id": "351a141f",
   "metadata": {},
   "outputs": [
    {
     "data": {
      "text/plain": [
       "3"
      ]
     },
     "execution_count": 27,
     "metadata": {},
     "output_type": "execute_result"
    }
   ],
   "source": [
    "len(docs)"
   ]
  },
  {
   "cell_type": "code",
   "execution_count": null,
   "id": "6b32fb5f",
   "metadata": {},
   "outputs": [],
   "source": []
  },
  {
   "cell_type": "code",
   "execution_count": null,
   "id": "90c7600f",
   "metadata": {},
   "outputs": [],
   "source": []
  },
  {
   "cell_type": "code",
   "execution_count": null,
   "id": "907a15c9",
   "metadata": {},
   "outputs": [],
   "source": []
  },
  {
   "cell_type": "code",
   "execution_count": 31,
   "id": "6aa75df7",
   "metadata": {},
   "outputs": [
    {
     "name": "stdout",
     "output_type": "stream",
     "text": [
      "You have 3 docs. First doc is 2801 tokens\n"
     ]
    }
   ],
   "source": [
    "# I'm only doing the first 23250 characters. This to save on costs. When you're doing your exercise you can remove this to let all the data through\n",
    "transcript_subsection_characters = 23250\n",
    "docs = text_splitter.create_documents([transcript[:transcript_subsection_characters]])\n",
    "\n",
    "\n",
    "print (f\"You have {len(docs)} docs. First doc is {llm3.get_num_tokens(docs[0].page_content)} tokens\")"
   ]
  },
  {
   "cell_type": "code",
   "execution_count": 32,
   "id": "f0f9f633",
   "metadata": {},
   "outputs": [],
   "source": [
    "template=\"\"\"\n",
    "You are a helpful assistant that helps retrieve topics talked about in a podcast transcript\n",
    "- Your goal is to extract the topic names and brief 1-sentence description of the topic\n",
    "- Topics include:\n",
    "  - Themes\n",
    "  - Business Ideas\n",
    "  - Interesting Stories\n",
    "  - Money making businesses\n",
    "  - Quick stories about people\n",
    "  - Mental Frameworks\n",
    "  - Stories about an industry\n",
    "  - Analogies mentioned\n",
    "  - Advice or words of caution\n",
    "  - Pieces of news or current events\n",
    "- Provide a brief description of the topics after the topic name. Example: 'Topic: Brief Description'\n",
    "- Use the same words and terminology that is said in the podcast\n",
    "- Do not respond with anything outside of the podcast. If you don't see any topics, say, 'No Topics'\n",
    "- Do not respond with numbers, just bullet points\n",
    "- Do not include anything about 'Marketing Against the Grain'\n",
    "- Only pull topics from the transcript. Do not use the examples\n",
    "- Make your titles descriptive but concise. Example: 'Shaan's Experience at Twitch' should be 'Shaan's Interesting Projects At Twitch'\n",
    "- A topic should be substantial, more than just a one-off comment\n",
    "\n",
    "% START OF EXAMPLES\n",
    " - Sam’s Elisabeth Murdoch Story: Sam got a call from Elizabeth Murdoch when he had just launched The Hustle. She wanted to generate video content.\n",
    " - Shaan’s Rupert Murdoch Story: When Shaan was running Blab he was invited to an event organized by Rupert Murdoch during CES in Las Vegas.\n",
    " - Revenge Against The Spam Calls: A couple of businesses focused on protecting consumers: RoboCall, TrueCaller, DoNotPay, FitIt\n",
    " - Wildcard CEOs vs. Prudent CEOs: However, Munger likes to surround himself with prudent CEO’s and says he would never hire Musk.\n",
    " - Chess Business: Priyav, a college student, expressed his doubts on the MFM Facebook group about his Chess training business, mychesstutor.com, making $12.5K MRR with 90 enrolled.\n",
    " - Restaurant Refiller: An MFM Facebook group member commented on how they pay AirMark $1,000/month for toilet paper and toilet cover refills for their restaurant. Shaan sees an opportunity here for anyone wanting to compete against AirMark.\n",
    " - Collecting: Shaan shared an idea to build a mobile only marketplace for a collectors’ category; similar to what StockX does for premium sneakers.\n",
    "% END OF EXAMPLES\n",
    "\"\"\"\n",
    "system_message_prompt_map = SystemMessagePromptTemplate.from_template(template)\n",
    "\n",
    "human_template=\"Transcript: {text}\" # Simply just pass the text as a human message\n",
    "human_message_prompt_map = HumanMessagePromptTemplate.from_template(human_template)\n",
    "\n",
    "chat_prompt_map = ChatPromptTemplate.from_messages(messages=[system_message_prompt_map, human_message_prompt_map])"
   ]
  },
  {
   "cell_type": "code",
   "execution_count": 33,
   "id": "cb9b4ff2",
   "metadata": {},
   "outputs": [
    {
     "data": {
      "text/plain": [
       "ChatPromptTemplate(input_variables=['text'], output_parser=None, partial_variables={}, messages=[SystemMessagePromptTemplate(prompt=PromptTemplate(input_variables=[], output_parser=None, partial_variables={}, template=\"\\nYou are a helpful assistant that helps retrieve topics talked about in a podcast transcript\\n- Your goal is to extract the topic names and brief 1-sentence description of the topic\\n- Topics include:\\n  - Themes\\n  - Business Ideas\\n  - Interesting Stories\\n  - Money making businesses\\n  - Quick stories about people\\n  - Mental Frameworks\\n  - Stories about an industry\\n  - Analogies mentioned\\n  - Advice or words of caution\\n  - Pieces of news or current events\\n- Provide a brief description of the topics after the topic name. Example: 'Topic: Brief Description'\\n- Use the same words and terminology that is said in the podcast\\n- Do not respond with anything outside of the podcast. If you don't see any topics, say, 'No Topics'\\n- Do not respond with numbers, just bullet points\\n- Do not include anything about 'Marketing Against the Grain'\\n- Only pull topics from the transcript. Do not use the examples\\n- Make your titles descriptive but concise. Example: 'Shaan's Experience at Twitch' should be 'Shaan's Interesting Projects At Twitch'\\n- A topic should be substantial, more than just a one-off comment\\n\\n% START OF EXAMPLES\\n - Sam’s Elisabeth Murdoch Story: Sam got a call from Elizabeth Murdoch when he had just launched The Hustle. She wanted to generate video content.\\n - Shaan’s Rupert Murdoch Story: When Shaan was running Blab he was invited to an event organized by Rupert Murdoch during CES in Las Vegas.\\n - Revenge Against The Spam Calls: A couple of businesses focused on protecting consumers: RoboCall, TrueCaller, DoNotPay, FitIt\\n - Wildcard CEOs vs. Prudent CEOs: However, Munger likes to surround himself with prudent CEO’s and says he would never hire Musk.\\n - Chess Business: Priyav, a college student, expressed his doubts on the MFM Facebook group about his Chess training business, mychesstutor.com, making $12.5K MRR with 90 enrolled.\\n - Restaurant Refiller: An MFM Facebook group member commented on how they pay AirMark $1,000/month for toilet paper and toilet cover refills for their restaurant. Shaan sees an opportunity here for anyone wanting to compete against AirMark.\\n - Collecting: Shaan shared an idea to build a mobile only marketplace for a collectors’ category; similar to what StockX does for premium sneakers.\\n% END OF EXAMPLES\\n\", template_format='f-string', validate_template=True), additional_kwargs={}), HumanMessagePromptTemplate(prompt=PromptTemplate(input_variables=['text'], output_parser=None, partial_variables={}, template='Transcript: {text}', template_format='f-string', validate_template=True), additional_kwargs={})])"
      ]
     },
     "execution_count": 33,
     "metadata": {},
     "output_type": "execute_result"
    }
   ],
   "source": [
    "chat_prompt_map"
   ]
  },
  {
   "cell_type": "code",
   "execution_count": 34,
   "id": "d6859910",
   "metadata": {},
   "outputs": [],
   "source": [
    "template=\"\"\"\n",
    "You are a helpful assistant that helps retrieve topics talked about in a podcast transcript\n",
    "- You will be given a series of bullet topics of topics vound\n",
    "- Your goal is to exract the topic names and brief 1-sentence description of the topic\n",
    "- Deduplicate any bullet points you see\n",
    "- Only pull topics from the transcript. Do not use the examples\n",
    "\n",
    "% START OF EXAMPLES\n",
    " - Sam’s Elisabeth Murdoch Story: Sam got a call from Elizabeth Murdoch when he had just launched The Hustle. She wanted to generate video content.\n",
    " - Shaan’s Rupert Murdoch Story: When Shaan was running Blab he was invited to an event organized by Rupert Murdoch during CES in Las Vegas.\n",
    "% END OF EXAMPLES\n",
    "\"\"\"\n",
    "system_message_prompt_map = SystemMessagePromptTemplate.from_template(template)\n",
    "\n",
    "human_template=\"Transcript: {text}\" # Simply just pass the text as a human message\n",
    "human_message_prompt_map = HumanMessagePromptTemplate.from_template(human_template)\n",
    "\n",
    "chat_prompt_combine = ChatPromptTemplate.from_messages(messages=[system_message_prompt_map, human_message_prompt_map])"
   ]
  },
  {
   "cell_type": "code",
   "execution_count": 35,
   "id": "6f0d1804",
   "metadata": {},
   "outputs": [],
   "source": [
    "chain = load_summarize_chain(llm3,\n",
    "                             chain_type=\"map_reduce\",\n",
    "                             map_prompt=chat_prompt_map,\n",
    "                             combine_prompt=chat_prompt_combine,\n",
    "#                              verbose=True\n",
    "                            )"
   ]
  },
  {
   "cell_type": "code",
   "execution_count": 36,
   "id": "dd9b8252",
   "metadata": {},
   "outputs": [
    {
     "name": "stderr",
     "output_type": "stream",
     "text": [
      "Retrying langchain.chat_models.openai.ChatOpenAI.completion_with_retry.<locals>._completion_with_retry in 1.0 seconds as it raised Timeout: Request timed out: HTTPSConnectionPool(host='api.openai.com', port=443): Read timed out. (read timeout=180.0).\n"
     ]
    }
   ],
   "source": [
    "Topics_found = chain.run({\"input_documents\": docs})"
   ]
  },
  {
   "cell_type": "code",
   "execution_count": 37,
   "id": "19dbd71e",
   "metadata": {},
   "outputs": [
    {
     "name": "stdout",
     "output_type": "stream",
     "text": [
      "- Fractional real estate: Converting unused commercial spaces into different types of businesses like yoga studios and rage rooms.\n",
      "- Temple Immersive: A club in San Francisco that transforms into a yoga class during the day and a nightclub at night, utilizing unused real estate.\n",
      "- Rage rooms: Rooms where people can release anger and frustration by smashing objects.\n",
      "- Escape rooms: Participants are locked in a room and must solve puzzles to escape within a time limit. Raleigh Williams sold his escape room business for $26 million.\n",
      "- Out-of-home entertainment: Activities like trampoline parks and axe throwing bundled together for a unique entertainment experience.\n"
     ]
    }
   ],
   "source": [
    "print(Topics_found)"
   ]
  },
  {
   "cell_type": "code",
   "execution_count": 38,
   "id": "64b59ee0",
   "metadata": {},
   "outputs": [],
   "source": [
    "schema = {\n",
    "    \"properties\": {\n",
    "        # The title of the topic\n",
    "        \"topic_name\": {\n",
    "            \"type\": \"string\",\n",
    "            \"description\" : \"The title of the topic listed\"\n",
    "        },\n",
    "        # The description\n",
    "        \"description\": {\n",
    "            \"type\": \"string\",\n",
    "            \"description\" : \"The description of the topic listed\"\n",
    "        },\n",
    "        \"tag\": {\n",
    "            \"type\": \"string\",\n",
    "            \"description\" : \"The type of content being described\",\n",
    "            \"enum\" : ['Business Models', 'Life Advice', 'Health & Wellness', 'Stories']\n",
    "        }\n",
    "    },\n",
    "    \"required\": [\"topic\", \"description\"],\n",
    "}"
   ]
  },
  {
   "cell_type": "code",
   "execution_count": 39,
   "id": "72edb72f",
   "metadata": {},
   "outputs": [],
   "source": [
    "chain = create_extraction_chain(schema, llm3)"
   ]
  },
  {
   "cell_type": "code",
   "execution_count": 41,
   "id": "659897ad",
   "metadata": {},
   "outputs": [],
   "source": [
    "topics_structured = chain.run(Topics_found)"
   ]
  },
  {
   "cell_type": "code",
   "execution_count": 42,
   "id": "82a13d39",
   "metadata": {},
   "outputs": [
    {
     "data": {
      "text/plain": [
       "[{'topic_name': 'Fractional real estate',\n",
       "  'description': 'Converting unused commercial spaces into different types of businesses like yoga studios and rage rooms.',\n",
       "  'tag': 'Business Models'},\n",
       " {'topic_name': 'Temple Immersive',\n",
       "  'description': 'A club in San Francisco that transforms into a yoga class during the day and a nightclub at night, utilizing unused real estate.',\n",
       "  'tag': 'Business Models'},\n",
       " {'topic_name': 'Rage rooms',\n",
       "  'description': 'Rooms where people can release anger and frustration by smashing objects.',\n",
       "  'tag': 'Business Models'},\n",
       " {'topic_name': 'Escape rooms',\n",
       "  'description': 'Participants are locked in a room and must solve puzzles to escape within a time limit. Raleigh Williams sold his escape room business for $26 million.',\n",
       "  'tag': 'Business Models'},\n",
       " {'topic_name': 'Out-of-home entertainment',\n",
       "  'description': 'Activities like trampoline parks and axe throwing bundled together for a unique entertainment experience.',\n",
       "  'tag': 'Business Models'}]"
      ]
     },
     "execution_count": 42,
     "metadata": {},
     "output_type": "execute_result"
    }
   ],
   "source": [
    "topics_structured"
   ]
  },
  {
   "cell_type": "markdown",
   "id": "458c114f",
   "metadata": {},
   "source": [
    "## Retrieval Techniques"
   ]
  },
  {
   "cell_type": "code",
   "execution_count": 43,
   "id": "cb7b9603",
   "metadata": {},
   "outputs": [
    {
     "name": "stdout",
     "output_type": "stream",
     "text": [
      "You have 8 docs. First doc is 776 tokens\n"
     ]
    }
   ],
   "source": [
    "text_splitter = RecursiveCharacterTextSplitter(chunk_size=4000, chunk_overlap=800)\n",
    "\n",
    "docs = text_splitter.create_documents([transcript[:transcript_subsection_characters]])\n",
    "\n",
    "print (f\"You have {len(docs)} docs. First doc is {llm3.get_num_tokens(docs[0].page_content)} tokens\")"
   ]
  },
  {
   "cell_type": "code",
   "execution_count": null,
   "id": "88ae17d1",
   "metadata": {},
   "outputs": [],
   "source": [
    "# The system instructions. Notice the 'context' placeholder down below. This is where our relevant docs will go.\n",
    "# The 'question' in the human message below won't be a question per se, but rather a topic we want to get relevant information on\n",
    "system_template = \"\"\"\n",
    "You will be given text from a podcast transcript which contains many topics.\n",
    "You goal is to write a summary (5 sentences or less) about a topic the user chooses\n",
    "Do not respond with information that isn't relevant to the topic that the user gives you\n",
    "----------------\n",
    "{context}\"\"\"\n",
    "\n",
    "messages = [\n",
    "    SystemMessagePromptTemplate.from_template(system_template),\n",
    "    HumanMessagePromptTemplate.from_template(\"{question}\"),\n",
    "]\n",
    "\n",
    "# This will pull the two messages together and get them ready to be sent to the LLM through the retriever\n",
    "CHAT_PROMPT = ChatPromptTemplate.from_messages(messages)"
   ]
  },
  {
   "cell_type": "code",
   "execution_count": null,
   "id": "61e41999",
   "metadata": {},
   "outputs": [],
   "source": [
    "# I'm using gpt4 for the increased reasoning power.\n",
    "# I'm also setting k=4 so the number of relevant docs we get back is 4. This parameter should be tuned to your use case\n",
    "qa = RetrievalQA.from_chain_type(llm=llm4,\n",
    "                                 chain_type=\"stuff\",\n",
    "                                 retriever=docsearch.as_retriever(k=4),\n",
    "                                 chain_type_kwargs = {\n",
    "#                                      'verbose': True,\n",
    "                                     'prompt': CHAT_PROMPT\n",
    "                                 })"
   ]
  },
  {
   "cell_type": "code",
   "execution_count": null,
   "id": "634a5caf",
   "metadata": {},
   "outputs": [],
   "source": []
  },
  {
   "cell_type": "code",
   "execution_count": null,
   "id": "3fc110ee",
   "metadata": {},
   "outputs": [],
   "source": []
  },
  {
   "cell_type": "code",
   "execution_count": null,
   "id": "159bdd88",
   "metadata": {},
   "outputs": [],
   "source": []
  },
  {
   "cell_type": "code",
   "execution_count": null,
   "id": "40981532",
   "metadata": {},
   "outputs": [],
   "source": []
  }
 ],
 "metadata": {
  "kernelspec": {
   "display_name": "learnings",
   "language": "python",
   "name": "learnings"
  },
  "language_info": {
   "codemirror_mode": {
    "name": "ipython",
    "version": 3
   },
   "file_extension": ".py",
   "mimetype": "text/x-python",
   "name": "python",
   "nbconvert_exporter": "python",
   "pygments_lexer": "ipython3",
   "version": "3.11.3"
  }
 },
 "nbformat": 4,
 "nbformat_minor": 5
}
