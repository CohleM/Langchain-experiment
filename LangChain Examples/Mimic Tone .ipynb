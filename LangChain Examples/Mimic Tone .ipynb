{
 "cells": [
  {
   "cell_type": "code",
   "execution_count": 2,
   "id": "ec640114",
   "metadata": {},
   "outputs": [
    {
     "data": {
      "text/plain": [
       "False"
      ]
     },
     "execution_count": 2,
     "metadata": {},
     "output_type": "execute_result"
    }
   ],
   "source": [
    "# LangChain\n",
    "from langchain.chat_models import ChatOpenAI\n",
    "from langchain import PromptTemplate\n",
    "\n",
    "# Environment Variables\n",
    "import os\n",
    "from dotenv import load_dotenv\n",
    "\n",
    "# Twitter\n",
    "# import tweepy\n",
    "\n",
    "load_dotenv()"
   ]
  },
  {
   "cell_type": "code",
   "execution_count": 4,
   "id": "3f318110",
   "metadata": {},
   "outputs": [
    {
     "name": "stdout",
     "output_type": "stream",
     "text": [
      "Enter your key········\n"
     ]
    }
   ],
   "source": [
    "from getpass import getpass\n",
    "\n",
    "os.environ[\"OPENAI_API_KEY\"] = getpass('Enter your key')"
   ]
  },
  {
   "cell_type": "code",
   "execution_count": 7,
   "id": "bc11576f",
   "metadata": {},
   "outputs": [],
   "source": [
    "llm = ChatOpenAI(temperature=0)"
   ]
  },
  {
   "cell_type": "code",
   "execution_count": 8,
   "id": "3e8d1bc9",
   "metadata": {},
   "outputs": [
    {
     "data": {
      "text/plain": [
       "'Hello! How can I assist you today?'"
      ]
     },
     "execution_count": 8,
     "metadata": {},
     "output_type": "execute_result"
    }
   ],
   "source": [
    "llm.predict('hello')"
   ]
  },
  {
   "cell_type": "markdown",
   "id": "aa88805e",
   "metadata": {},
   "source": [
    "## Simple tone (only prompting)"
   ]
  },
  {
   "cell_type": "code",
   "execution_count": 14,
   "id": "d2cbed64",
   "metadata": {},
   "outputs": [],
   "source": [
    "style = \"Imagine you sound like elon musk and Create a tweet about going to the fight with Mark Zukerberg \""
   ]
  },
  {
   "cell_type": "code",
   "execution_count": 15,
   "id": "8fe99c5f",
   "metadata": {},
   "outputs": [
    {
     "name": "stderr",
     "output_type": "stream",
     "text": [
      "Retrying langchain.chat_models.openai.ChatOpenAI.completion_with_retry.<locals>._completion_with_retry in 1.0 seconds as it raised ServiceUnavailableError: The server is overloaded or not ready yet..\n"
     ]
    },
    {
     "data": {
      "text/plain": [
       "'\"Hey @finkd, heard you\\'re up for a fight! But let\\'s settle this like gentlemen, not in the ring. How about a friendly debate on the future of AI and its impact on society? I\\'m game if you are! #AIshowdown #TechTitansUnite\"'"
      ]
     },
     "execution_count": 15,
     "metadata": {},
     "output_type": "execute_result"
    }
   ],
   "source": [
    "llm.predict(style)"
   ]
  },
  {
   "cell_type": "code",
   "execution_count": 16,
   "id": "4ba6bd51",
   "metadata": {},
   "outputs": [],
   "source": [
    "tweets = \"These numbers prove why India plays such a crucial role in the world’s fight to improve health, reduce poverty, prevent climate change, and more. https://t.co/xMpmcoYQhi  Mann ki Baat has catalyzed community led action on sanitation, health, women’s economic empowerment and other issues linked to the Sustainable Development Goals. Congratulations @narendramodi on the 100th episode. https://t.co/yg1Di2srjE  The development of AI is as fundamental as the creation of the microprocessor, the personal computer, the Internet, and the mobile phone. It will change the way people work, learn, travel, get health care, and communicate with each other. https://t.co/uuaOQyxBTl  I just returned from my visit to India, and I can’t wait to go back again. I love visiting India because every trip is an incredible opportunity to learn. Here are some photos from my trip and some of the stories behind them: https://t.co/We6PtJWDnp https://t.co/QxZW7gfUmI  Superintelligent AIs are in our future. Compared to a computer, our brains operate at a snail’s pace. An electrical signal in the brain moves at ___________ the speed of the signal in a silicon chip. Check your answer here: https://t.co/wqZG1BdoTc  Thinking of President Carter and his family. This is a lovely tribute to one of his biggest accomplishments. https://t.co/g53c4ty0qI  Uganda’s maternal mortality rate is at least double the global average. That's why Eva Nangalo has dedicated her life to making childbirth in the country safer for everyone involved. https://t.co/29AjdJehNY  I am so impressed with Eva Nangalo—it’s hard not to be. She’s spent decades making childbirth safer in Uganda for everyone involved, and she’s become a mentor to countless other midwives in the process. https://t.co/79RHbrCt01  I recently had the chance to test drive—or test ride, I guess—one of @wayve_ai’s autonomous vehicles. It was a pretty wild ride: https://t.co/PrwrxU49dd https://t.co/NtnkVx7sBx  When I transitioned from @Microsoft to working full-time at the @GatesFoundation, I finally had the time to learn more about physics, chemistry, biology, and other sciences. So, I looked around for the best books and read as many of them as I could find. https://t.co/z2D5xGSeMj  As big as the problems facing the world are right now, my visit to India reminded me that our capacity to solve them is even bigger: https://t.co/zp7XfRIpV9 https://t.co/aFHUu987u3  I’m grateful for the Lauder family’s dedication to solving Alzheimer’s. https://t.co/vX0qtjBFxt\""
   ]
  },
  {
   "cell_type": "markdown",
   "id": "17f9bc81",
   "metadata": {},
   "source": [
    "## Few shots prompting"
   ]
  },
  {
   "cell_type": "code",
   "execution_count": 26,
   "id": "5b2563a6",
   "metadata": {},
   "outputs": [],
   "source": [
    "template = \"\"\"Create a tweet about fighting with Mark Zuckerberg \n",
    "   % Tone \n",
    " - Don't use any emojis or hashtags. \n",
    " - Respond in the tone of Elon Musk \n",
    "% Example tweets \n",
    "{tweets} \n",
    "\n",
    "YOUR TWEET:\"\"\""
   ]
  },
  {
   "cell_type": "code",
   "execution_count": 28,
   "id": "d02a8eb9",
   "metadata": {},
   "outputs": [],
   "source": [
    "prompt = PromptTemplate.from_template(template)"
   ]
  },
  {
   "cell_type": "code",
   "execution_count": 30,
   "id": "9f443ed1",
   "metadata": {},
   "outputs": [],
   "source": [
    "final_prompt = prompt.format(tweets = tweets)"
   ]
  },
  {
   "cell_type": "code",
   "execution_count": 31,
   "id": "f2a812e9",
   "metadata": {},
   "outputs": [
    {
     "data": {
      "text/plain": [
       "\"Just had a heated debate with Mark Zuckerberg about the future of AI. It's like arguing with a snail trying to keep up with a supercomputer. Time to step up the game, Zuck. #AIRevolution\""
      ]
     },
     "execution_count": 31,
     "metadata": {},
     "output_type": "execute_result"
    }
   ],
   "source": [
    "llm.predict(final_prompt)"
   ]
  },
  {
   "cell_type": "markdown",
   "id": "13400a5c",
   "metadata": {},
   "source": [
    "## Asking GPT for the tone"
   ]
  },
  {
   "cell_type": "code",
   "execution_count": 32,
   "id": "fe40d4fb",
   "metadata": {},
   "outputs": [
    {
     "name": "stdout",
     "output_type": "stream",
     "text": [
      "1. Tone: The overall attitude or feeling conveyed by the writing.\n",
      "2. Pace: The speed at which the events or ideas are presented.\n",
      "3. Mood: The emotional atmosphere or ambiance created by the writing.\n",
      "4. Voice: The distinctive style or personality of the author shining through the writing.\n",
      "5. Diction: The choice and use of words, phrases, and language in the writing.\n",
      "6. Style: The manner in which the writing is crafted, including sentence structure and literary techniques.\n",
      "7. Tension: The level of suspense, anticipation, or conflict present in the writing.\n",
      "8. Humor: The presence of comedic elements or the ability to evoke laughter.\n",
      "9. Intensity: The degree of emotional or intellectual impact the writing has on the reader.\n",
      "10. Imagery: The use of vivid and descriptive language to create mental images.\n",
      "11. Rhythm: The pattern or flow of words and phrases, often contributing to the musicality of the writing.\n",
      "12. Complexity: The level of intricacy, depth, or sophistication in the ideas or narrative.\n",
      "13. Authenticity: The genuineness or credibility of the writing, reflecting the author's personal experiences or expertise.\n",
      "14. Irony: The use of words or situations to convey a meaning that is opposite to the literal interpretation.\n",
      "15. Sensory details: The inclusion of sensory information (sight, sound, taste, touch, smell) to enhance the reader's experience.\n"
     ]
    }
   ],
   "source": [
    "prompt = \"\"\"\n",
    "Can you please generate a list of tone attributes and a description to describe a piece of writing by?\n",
    "\n",
    "Things like pace, mood, etc.\n",
    "\n",
    "Respond with nothing else besides the list\n",
    "\"\"\"\n",
    "\n",
    "how_to_describe_tone = llm.predict(prompt)\n",
    "print (how_to_describe_tone)"
   ]
  },
  {
   "cell_type": "code",
   "execution_count": 33,
   "id": "98512184",
   "metadata": {},
   "outputs": [],
   "source": [
    "def get_authors_tone_description(how_to_describe_tone, users_tweets):\n",
    "    template = \"\"\"\n",
    "        You are an AI Bot that is very good at generating writing in a similar tone as examples.\n",
    "        Be opinionated and have an active voice.\n",
    "        Take a strong stance with your response.\n",
    "\n",
    "        % HOW TO DESCRIBE TONE\n",
    "        {how_to_describe_tone}\n",
    "\n",
    "        % START OF EXAMPLES\n",
    "        {tweet_examples}\n",
    "        % END OF EXAMPLES\n",
    "\n",
    "        List out the tone qualities of the examples above\n",
    "        \"\"\"\n",
    "\n",
    "    prompt = PromptTemplate(\n",
    "        input_variables=[\"how_to_describe_tone\", \"tweet_examples\"],\n",
    "        template=template,\n",
    "    )\n",
    "\n",
    "    final_prompt = prompt.format(how_to_describe_tone=how_to_describe_tone, tweet_examples=users_tweets)\n",
    "\n",
    "    authors_tone_description = llm.predict(final_prompt)\n",
    "\n",
    "    return authors_tone_description"
   ]
  },
  {
   "cell_type": "code",
   "execution_count": 34,
   "id": "c9987bf5",
   "metadata": {},
   "outputs": [
    {
     "name": "stdout",
     "output_type": "stream",
     "text": [
      "1. Tone: Positive, enthusiastic, and appreciative.\n",
      "2. Pace: Varied, depending on the content being discussed.\n",
      "3. Mood: Inspiring, hopeful, and empowering.\n",
      "4. Voice: Authoritative, knowledgeable, and experienced.\n",
      "5. Diction: Clear, concise, and impactful.\n",
      "6. Style: Informative, persuasive, and engaging.\n",
      "7. Tension: Low, as the examples focus on achievements and positive developments.\n",
      "8. Humor: Not present in the examples.\n",
      "9. Intensity: High, as the examples discuss important global issues and advancements.\n",
      "10. Imagery: Limited, as the examples mainly rely on text rather than visual descriptions.\n",
      "11. Rhythm: Varied, depending on the sentence structure and content.\n",
      "12. Complexity: Moderate, as the examples touch on complex topics but present them in a simplified manner.\n",
      "13. Authenticity: High, as the examples reflect the author's personal experiences and expertise.\n",
      "14. Irony: Not present in the examples.\n",
      "15. Sensory details: Limited, as the examples mainly focus on conveying information rather than sensory experiences.\n"
     ]
    }
   ],
   "source": [
    "authors_tone_description = get_authors_tone_description(how_to_describe_tone, tweets)\n",
    "print (authors_tone_description)"
   ]
  },
  {
   "cell_type": "code",
   "execution_count": 36,
   "id": "7d1acc40",
   "metadata": {},
   "outputs": [],
   "source": [
    "template = \"\"\"\n",
    "% INSTRUCTIONS\n",
    " - You are an AI Bot that is very good at mimicking an author writing style.\n",
    " - Your goal is to write content with the tone that is described below.\n",
    " - Do not go outside the tone instructions below\n",
    " - Do not use hashtags or emojis\n",
    " - Respond in the tone of Bill Gates\n",
    "\n",
    "% Description of the authors tone:\n",
    "{authors_tone_description}\n",
    "\n",
    "% Authors writing samples\n",
    "{tweet_examples}\n",
    "\n",
    "% YOUR TASK\n",
    "Please create a tweet about going to the park and eating a sandwich.\n",
    "\"\"\"\n",
    "\n",
    "prompt = PromptTemplate(\n",
    "    input_variables=[\"authors_tone_description\", \"tweet_examples\"],\n",
    "    template=template,\n",
    ")\n",
    "\n",
    "final_prompt = prompt.format(authors_tone_description=authors_tone_description, tweet_examples=tweets)"
   ]
  },
  {
   "cell_type": "code",
   "execution_count": 37,
   "id": "a9a4679e",
   "metadata": {},
   "outputs": [
    {
     "data": {
      "text/plain": [
       "\"\\n% INSTRUCTIONS\\n - You are an AI Bot that is very good at mimicking an author writing style.\\n - Your goal is to write content with the tone that is described below.\\n - Do not go outside the tone instructions below\\n - Do not use hashtags or emojis\\n - Respond in the tone of Bill Gates\\n\\n% Description of the authors tone:\\n1. Tone: Positive, enthusiastic, and appreciative.\\n2. Pace: Varied, depending on the content being discussed.\\n3. Mood: Inspiring, hopeful, and empowering.\\n4. Voice: Authoritative, knowledgeable, and experienced.\\n5. Diction: Clear, concise, and impactful.\\n6. Style: Informative, persuasive, and engaging.\\n7. Tension: Low, as the examples focus on achievements and positive developments.\\n8. Humor: Not present in the examples.\\n9. Intensity: High, as the examples discuss important global issues and advancements.\\n10. Imagery: Limited, as the examples mainly rely on text rather than visual descriptions.\\n11. Rhythm: Varied, depending on the sentence structure and content.\\n12. Complexity: Moderate, as the examples touch on complex topics but present them in a simplified manner.\\n13. Authenticity: High, as the examples reflect the author's personal experiences and expertise.\\n14. Irony: Not present in the examples.\\n15. Sensory details: Limited, as the examples mainly focus on conveying information rather than sensory experiences.\\n\\n% Authors writing samples\\nThese numbers prove why India plays such a crucial role in the world’s fight to improve health, reduce poverty, prevent climate change, and more. https://t.co/xMpmcoYQhi  Mann ki Baat has catalyzed community led action on sanitation, health, women’s economic empowerment and other issues linked to the Sustainable Development Goals. Congratulations @narendramodi on the 100th episode. https://t.co/yg1Di2srjE  The development of AI is as fundamental as the creation of the microprocessor, the personal computer, the Internet, and the mobile phone. It will change the way people work, learn, travel, get health care, and communicate with each other. https://t.co/uuaOQyxBTl  I just returned from my visit to India, and I can’t wait to go back again. I love visiting India because every trip is an incredible opportunity to learn. Here are some photos from my trip and some of the stories behind them: https://t.co/We6PtJWDnp https://t.co/QxZW7gfUmI  Superintelligent AIs are in our future. Compared to a computer, our brains operate at a snail’s pace. An electrical signal in the brain moves at ___________ the speed of the signal in a silicon chip. Check your answer here: https://t.co/wqZG1BdoTc  Thinking of President Carter and his family. This is a lovely tribute to one of his biggest accomplishments. https://t.co/g53c4ty0qI  Uganda’s maternal mortality rate is at least double the global average. That's why Eva Nangalo has dedicated her life to making childbirth in the country safer for everyone involved. https://t.co/29AjdJehNY  I am so impressed with Eva Nangalo—it’s hard not to be. She’s spent decades making childbirth safer in Uganda for everyone involved, and she’s become a mentor to countless other midwives in the process. https://t.co/79RHbrCt01  I recently had the chance to test drive—or test ride, I guess—one of @wayve_ai’s autonomous vehicles. It was a pretty wild ride: https://t.co/PrwrxU49dd https://t.co/NtnkVx7sBx  When I transitioned from @Microsoft to working full-time at the @GatesFoundation, I finally had the time to learn more about physics, chemistry, biology, and other sciences. So, I looked around for the best books and read as many of them as I could find. https://t.co/z2D5xGSeMj  As big as the problems facing the world are right now, my visit to India reminded me that our capacity to solve them is even bigger: https://t.co/zp7XfRIpV9 https://t.co/aFHUu987u3  I’m grateful for the Lauder family’s dedication to solving Alzheimer’s. https://t.co/vX0qtjBFxt\\n\\n% YOUR TASK\\nPlease create a tweet about going to the park and eating a sandwich.\\n\""
      ]
     },
     "execution_count": 37,
     "metadata": {},
     "output_type": "execute_result"
    }
   ],
   "source": [
    "final_prompt"
   ]
  },
  {
   "cell_type": "code",
   "execution_count": 38,
   "id": "d9d242a9",
   "metadata": {},
   "outputs": [
    {
     "data": {
      "text/plain": [
       "\"I had the pleasure of visiting a beautiful park today, where I enjoyed a delightful sandwich amidst nature's embrace. It's moments like these that remind me of the simple joys in life. #ParkLife #SandwichLove\""
      ]
     },
     "execution_count": 38,
     "metadata": {},
     "output_type": "execute_result"
    }
   ],
   "source": [
    "llm.predict(final_prompt)"
   ]
  },
  {
   "cell_type": "markdown",
   "id": "04f314f7",
   "metadata": {},
   "source": [
    "## Combine multiple techniques to mimic tone"
   ]
  },
  {
   "cell_type": "code",
   "execution_count": 39,
   "id": "66dbcc2e",
   "metadata": {},
   "outputs": [],
   "source": [
    "def get_similar_public_figures(tweet_examples):\n",
    "    template = \"\"\"\n",
    "    You are an AI Bot that is very good at identifying authors, public figures, or writers whos style matches a piece of text\n",
    "    Your goal is to identify which authors, public figures, or writers sound most similar to the text below\n",
    "\n",
    "    % START EXAMPLES\n",
    "    {tweet_examples}\n",
    "    % END EXAMPLES\n",
    "\n",
    "    Which authors (list up to 4 if necessary) most closely resemble the examples above? Only respond with the names separated by commas\n",
    "    \"\"\"\n",
    "\n",
    "    prompt = PromptTemplate(\n",
    "        input_variables=[\"tweet_examples\"],\n",
    "        template=template,\n",
    "    )\n",
    "\n",
    "    # Using the short list of examples so save on tokens and (hopefully) the top tweets\n",
    "    final_prompt = prompt.format(tweet_examples=tweet_examples)\n",
    "\n",
    "    authors = llm.predict(final_prompt)\n",
    "    return authors"
   ]
  },
  {
   "cell_type": "code",
   "execution_count": 41,
   "id": "f2563d13",
   "metadata": {},
   "outputs": [
    {
     "name": "stdout",
     "output_type": "stream",
     "text": [
      "Narendra Modi, Bill Gates, Eva Nangalo\n"
     ]
    }
   ],
   "source": [
    "authors = get_similar_public_figures(tweets)\n",
    "print (authors)"
   ]
  },
  {
   "cell_type": "code",
   "execution_count": 43,
   "id": "5044a506",
   "metadata": {},
   "outputs": [],
   "source": [
    "template = \"\"\"\n",
    "% INSTRUCTIONS\n",
    " - You are an AI Bot that is very good at mimicking an author writing style.\n",
    " - Your goal is to write content with the tone that is described below.\n",
    " - Do not go outside the tone instructions below\n",
    "\n",
    "% Mimic These Authors:\n",
    "{authors}\n",
    "\n",
    "% Description of the authors tone:\n",
    "{tone}\n",
    "\n",
    "% Authors writing samples\n",
    "{example_text}\n",
    "% End of authors writing samples\n",
    "\n",
    "% YOUR TASK\n",
    "1st - Write out topics that this author may talk about\n",
    "2nd - Write a concise passage (under 300 characters) as if you were the author described above\n",
    "\"\"\"\n",
    "\n",
    "method_4_prompt_template = PromptTemplate(\n",
    "    input_variables=[\"authors\", \"tone\", \"example_text\"],\n",
    "    template=template,\n",
    ")\n",
    "\n",
    "# Using the short list of examples so save on tokens and (hopefully) the top tweets\n",
    "final_prompt = method_4_prompt_template.format(authors=authors,\n",
    "                                               tone=authors_tone_description,\n",
    "                                               example_text=tweets)"
   ]
  },
  {
   "cell_type": "code",
   "execution_count": 44,
   "id": "99359fd2",
   "metadata": {},
   "outputs": [
    {
     "name": "stdout",
     "output_type": "stream",
     "text": [
      "Topics:\n",
      "1. India's role in global development\n",
      "2. Sustainable Development Goals\n",
      "3. The impact of AI on various aspects of life\n",
      "4. Personal experiences and learnings from visiting India\n",
      "5. Advancements in technology and their potential implications\n",
      "6. Efforts to improve maternal healthcare in Uganda\n",
      "7. Inspiring individuals making a difference in their communities\n",
      "8. The importance of education and continuous learning\n",
      "9. Solving global challenges through collaboration and innovation\n",
      "10. Appreciation for philanthropic efforts in tackling diseases like Alzheimer's\n",
      "\n",
      "Passage:\n",
      "I'm truly inspired by India's contributions to health, poverty reduction, climate change, and more. The Sustainable Development Goals have gained momentum through community-led action. AI's transformative power will revolutionize work, education, healthcare, and communication. My visits to India have been incredible learning experiences. Uganda's Eva Nangalo is a remarkable figure, making childbirth safer and mentoring countless midwives. Continuous learning and exploring new fields have been enriching. Let's tackle global challenges together, as our capacity to solve them is immense. Grateful for the dedication to solving Alzheimer's.\n"
     ]
    }
   ],
   "source": [
    "output = llm.predict(final_prompt)\n",
    "print (output)"
   ]
  },
  {
   "cell_type": "code",
   "execution_count": null,
   "id": "12049cbc",
   "metadata": {},
   "outputs": [],
   "source": []
  }
 ],
 "metadata": {
  "kernelspec": {
   "display_name": "learnings",
   "language": "python",
   "name": "learnings"
  },
  "language_info": {
   "codemirror_mode": {
    "name": "ipython",
    "version": 3
   },
   "file_extension": ".py",
   "mimetype": "text/x-python",
   "name": "python",
   "nbconvert_exporter": "python",
   "pygments_lexer": "ipython3",
   "version": "3.11.3"
  }
 },
 "nbformat": 4,
 "nbformat_minor": 5
}
